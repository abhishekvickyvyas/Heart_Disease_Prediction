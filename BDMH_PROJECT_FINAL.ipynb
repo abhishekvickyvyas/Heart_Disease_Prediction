{
  "nbformat": 4,
  "nbformat_minor": 0,
  "metadata": {
    "colab": {
      "name": "BDMH_PROJECT_FINAL.ipynb",
      "provenance": [],
      "collapsed_sections": [],
      "include_colab_link": true
    },
    "kernelspec": {
      "display_name": "Python 3",
      "language": "python",
      "name": "python3"
    },
    "language_info": {
      "codemirror_mode": {
        "name": "ipython",
        "version": 3
      },
      "file_extension": ".py",
      "mimetype": "text/x-python",
      "name": "python",
      "nbconvert_exporter": "python",
      "pygments_lexer": "ipython3",
      "version": "3.6.5"
    }
  },
  "cells": [
    {
      "cell_type": "markdown",
      "metadata": {
        "id": "view-in-github",
        "colab_type": "text"
      },
      "source": [
        "<a href=\"https://colab.research.google.com/github/abhishekvickyvyas/Heart_Disease_Prediction/blob/main/BDMH_PROJECT_FINAL.ipynb\" target=\"_parent\"><img src=\"https://colab.research.google.com/assets/colab-badge.svg\" alt=\"Open In Colab\"/></a>"
      ]
    },
    {
      "cell_type": "markdown",
      "metadata": {
        "id": "eAX9vTOGuR0U"
      },
      "source": [
        "**HEART DISEASE PREDICTION**"
      ]
    },
    {
      "cell_type": "code",
      "metadata": {
        "id": "2FTNiYtl_TBX"
      },
      "source": [
        "import pandas as pd\n",
        "from sklearn.tree import DecisionTreeClassifier as cl\n",
        "from sklearn.metrics import accuracy_score\n",
        "from sklearn.naive_bayes import GaussianNB\n",
        "import tensorflow as tf\n",
        "import numpy as np\n",
        "from sklearn.model_selection import train_test_split\n",
        "from tensorflow import keras\n",
        "from sklearn.metrics import f1_score\n",
        "from sklearn.metrics import precision_score\n",
        "from sklearn.metrics import recall_score"
      ],
      "execution_count": null,
      "outputs": []
    },
    {
      "cell_type": "code",
      "metadata": {
        "id": "6VStoUQHGLi9",
        "outputId": "fcae25b0-c37f-4f42-daf9-8db45d6bb6ea",
        "colab": {
          "base_uri": "https://localhost:8080/",
          "height": 34
        }
      },
      "source": [
        "from google.colab import drive\n",
        "drive.mount('/content/drive')"
      ],
      "execution_count": null,
      "outputs": [
        {
          "output_type": "stream",
          "text": [
            "Drive already mounted at /content/drive; to attempt to forcibly remount, call drive.mount(\"/content/drive\", force_remount=True).\n"
          ],
          "name": "stdout"
        }
      ]
    },
    {
      "cell_type": "code",
      "metadata": {
        "id": "9xs8wEMAI9J5"
      },
      "source": [
        "accuracy_dict = {}\n",
        "precision_dict = {}\n",
        "recall_dict = {}\n",
        "fscore_dict = {}"
      ],
      "execution_count": null,
      "outputs": []
    },
    {
      "cell_type": "code",
      "metadata": {
        "id": "ol4PN63f_xfD",
        "outputId": "40d72e58-3302-4f2b-c079-af661ff68f06",
        "colab": {
          "base_uri": "https://localhost:8080/",
          "height": 487
        }
      },
      "source": [
        "data1=pd.read_csv(\"/content/drive/My Drive/BDMH/heart.csv\")\n",
        "data2=pd.read_csv(\"/content/drive/My Drive/BDMH/heart.csv\")\n",
        "target = data1['target']\n",
        "data1 = data1.drop(columns=['target','sex','age'],axis=1)\n",
        "data2 = data2.drop(columns=['target'],axis=1)\n",
        "print(data1)\n",
        "print(data2)\n"
      ],
      "execution_count": null,
      "outputs": [
        {
          "output_type": "stream",
          "text": [
            "     cp  trestbps  chol  fbs  restecg  thalach  exang  oldpeak  slope  ca  thal\n",
            "0     3       145   233    1        0      150      0      2.3      0   0     1\n",
            "1     2       130   250    0        1      187      0      3.5      0   0     2\n",
            "2     1       130   204    0        0      172      0      1.4      2   0     2\n",
            "3     1       120   236    0        1      178      0      0.8      2   0     2\n",
            "4     0       120   354    0        1      163      1      0.6      2   0     2\n",
            "..   ..       ...   ...  ...      ...      ...    ...      ...    ...  ..   ...\n",
            "298   0       140   241    0        1      123      1      0.2      1   0     3\n",
            "299   3       110   264    0        1      132      0      1.2      1   0     3\n",
            "300   0       144   193    1        1      141      0      3.4      1   2     3\n",
            "301   0       130   131    0        1      115      1      1.2      1   1     3\n",
            "302   1       130   236    0        0      174      0      0.0      1   1     2\n",
            "\n",
            "[303 rows x 11 columns]\n",
            "     age  sex  cp  trestbps  chol  ...  exang  oldpeak  slope  ca  thal\n",
            "0     63    1   3       145   233  ...      0      2.3      0   0     1\n",
            "1     37    1   2       130   250  ...      0      3.5      0   0     2\n",
            "2     41    0   1       130   204  ...      0      1.4      2   0     2\n",
            "3     56    1   1       120   236  ...      0      0.8      2   0     2\n",
            "4     57    0   0       120   354  ...      1      0.6      2   0     2\n",
            "..   ...  ...  ..       ...   ...  ...    ...      ...    ...  ..   ...\n",
            "298   57    0   0       140   241  ...      1      0.2      1   0     3\n",
            "299   45    1   3       110   264  ...      0      1.2      1   0     3\n",
            "300   68    1   0       144   193  ...      0      3.4      1   2     3\n",
            "301   57    1   0       130   131  ...      1      1.2      1   1     3\n",
            "302   57    0   1       130   236  ...      0      0.0      1   1     2\n",
            "\n",
            "[303 rows x 13 columns]\n"
          ],
          "name": "stdout"
        }
      ]
    },
    {
      "cell_type": "markdown",
      "metadata": {
        "id": "oIvxMrlWjCJK"
      },
      "source": [
        "**MULTI-LAYER PERCEPTRON MODEL**"
      ]
    },
    {
      "cell_type": "code",
      "metadata": {
        "id": "A2QFiMSFApic",
        "outputId": "e40a9d8a-f5f0-4f19-ba92-e18aa892c223",
        "colab": {
          "base_uri": "https://localhost:8080/",
          "height": 1000
        }
      },
      "source": [
        "model = tf.keras.models.Sequential()\n",
        "model.add(tf.keras.layers.Flatten())\n",
        "model.add(tf.keras.layers.Dense(512, activation=tf.nn.relu))\n",
        "model.add(tf.keras.layers.Dense(256, activation=tf.nn.relu))\n",
        "model.add(tf.keras.layers.Dense(128, activation=tf.nn.relu))\n",
        "model.add(tf.keras.layers.Dense(512, activation=tf.nn.softmax))\n",
        "\n",
        "model.compile(optimizer = tf.optimizers.Adam(),\n",
        "              loss = 'sparse_categorical_crossentropy',\n",
        "              metrics=['accuracy'])\n",
        "target = np.array(target)\n",
        "data1 = np.array(data1)\n",
        "data2 = np.array(data2)\n",
        "train_x,test_x,train_y,test_y = train_test_split(data1,target,test_size=0.2)\n",
        "x_train,x_test,y_train,y_test = train_test_split(data2,target,test_size=0.2)\n",
        "model.fit(train_x,train_y,epochs=50)\n",
        "pred1 = model.predict_classes(test_x)\n",
        "\n",
        "model1 = tf.keras.models.Sequential()\n",
        "model1.add(tf.keras.layers.Flatten())\n",
        "model1.add(tf.keras.layers.Dense(512, activation=tf.nn.relu))\n",
        "model1.add(tf.keras.layers.Dense(256, activation=tf.nn.relu))\n",
        "model1.add(tf.keras.layers.Dense(128, activation=tf.nn.relu))\n",
        "model1.add(tf.keras.layers.Dense(512, activation=tf.nn.softmax))\n",
        "\n",
        "model1.compile(optimizer = tf.optimizers.Adam(),\n",
        "              loss = 'sparse_categorical_crossentropy',\n",
        "              metrics=['accuracy'])\n",
        "model1.fit(x_train,y_train,epochs=50)\n",
        "pred2 = model1.predict_classes(x_test)\n"
      ],
      "execution_count": null,
      "outputs": [
        {
          "output_type": "stream",
          "text": [
            "Epoch 1/50\n",
            "8/8 [==============================] - 0s 4ms/step - loss: 4.5335 - accuracy: 0.3926 \n",
            "Epoch 2/50\n",
            "8/8 [==============================] - 0s 4ms/step - loss: 0.7552 - accuracy: 0.6033\n",
            "Epoch 3/50\n",
            "8/8 [==============================] - 0s 4ms/step - loss: 0.6006 - accuracy: 0.6901\n",
            "Epoch 4/50\n",
            "8/8 [==============================] - 0s 4ms/step - loss: 0.5851 - accuracy: 0.6942\n",
            "Epoch 5/50\n",
            "8/8 [==============================] - 0s 3ms/step - loss: 0.6015 - accuracy: 0.6612\n",
            "Epoch 6/50\n",
            "8/8 [==============================] - 0s 4ms/step - loss: 0.6723 - accuracy: 0.6198\n",
            "Epoch 7/50\n",
            "8/8 [==============================] - 0s 4ms/step - loss: 0.8372 - accuracy: 0.5579\n",
            "Epoch 8/50\n",
            "8/8 [==============================] - 0s 4ms/step - loss: 0.6953 - accuracy: 0.6157\n",
            "Epoch 9/50\n",
            "8/8 [==============================] - 0s 4ms/step - loss: 0.5501 - accuracy: 0.7273\n",
            "Epoch 10/50\n",
            "8/8 [==============================] - 0s 4ms/step - loss: 0.6392 - accuracy: 0.6488\n",
            "Epoch 11/50\n",
            "8/8 [==============================] - 0s 4ms/step - loss: 0.6990 - accuracy: 0.6405\n",
            "Epoch 12/50\n",
            "8/8 [==============================] - 0s 4ms/step - loss: 0.5853 - accuracy: 0.6529\n",
            "Epoch 13/50\n",
            "8/8 [==============================] - 0s 4ms/step - loss: 0.5243 - accuracy: 0.7149\n",
            "Epoch 14/50\n",
            "8/8 [==============================] - 0s 4ms/step - loss: 0.6490 - accuracy: 0.6240\n",
            "Epoch 15/50\n",
            "8/8 [==============================] - 0s 4ms/step - loss: 0.7157 - accuracy: 0.6405\n",
            "Epoch 16/50\n",
            "8/8 [==============================] - 0s 4ms/step - loss: 0.6777 - accuracy: 0.6364\n",
            "Epoch 17/50\n",
            "8/8 [==============================] - 0s 4ms/step - loss: 0.6474 - accuracy: 0.6777\n",
            "Epoch 18/50\n",
            "8/8 [==============================] - 0s 4ms/step - loss: 0.5630 - accuracy: 0.6942\n",
            "Epoch 19/50\n",
            "8/8 [==============================] - 0s 3ms/step - loss: 0.5151 - accuracy: 0.7190\n",
            "Epoch 20/50\n",
            "8/8 [==============================] - 0s 5ms/step - loss: 0.6286 - accuracy: 0.6694\n",
            "Epoch 21/50\n",
            "8/8 [==============================] - 0s 4ms/step - loss: 0.5034 - accuracy: 0.7479\n",
            "Epoch 22/50\n",
            "8/8 [==============================] - 0s 4ms/step - loss: 0.5717 - accuracy: 0.6818\n",
            "Epoch 23/50\n",
            "8/8 [==============================] - 0s 4ms/step - loss: 0.4783 - accuracy: 0.7686\n",
            "Epoch 24/50\n",
            "8/8 [==============================] - 0s 4ms/step - loss: 0.4937 - accuracy: 0.7397\n",
            "Epoch 25/50\n",
            "8/8 [==============================] - 0s 4ms/step - loss: 0.5188 - accuracy: 0.7107\n",
            "Epoch 26/50\n",
            "8/8 [==============================] - 0s 4ms/step - loss: 0.5536 - accuracy: 0.7231\n",
            "Epoch 27/50\n",
            "8/8 [==============================] - 0s 4ms/step - loss: 0.5242 - accuracy: 0.7603\n",
            "Epoch 28/50\n",
            "8/8 [==============================] - 0s 4ms/step - loss: 0.5212 - accuracy: 0.6942\n",
            "Epoch 29/50\n",
            "8/8 [==============================] - 0s 4ms/step - loss: 0.6313 - accuracy: 0.7066\n",
            "Epoch 30/50\n",
            "8/8 [==============================] - 0s 3ms/step - loss: 0.7174 - accuracy: 0.6570\n",
            "Epoch 31/50\n",
            "8/8 [==============================] - 0s 4ms/step - loss: 0.4813 - accuracy: 0.7438\n",
            "Epoch 32/50\n",
            "8/8 [==============================] - 0s 4ms/step - loss: 0.4552 - accuracy: 0.7438\n",
            "Epoch 33/50\n",
            "8/8 [==============================] - 0s 3ms/step - loss: 0.4612 - accuracy: 0.7851\n",
            "Epoch 34/50\n",
            "8/8 [==============================] - 0s 5ms/step - loss: 0.4357 - accuracy: 0.8099\n",
            "Epoch 35/50\n",
            "8/8 [==============================] - 0s 3ms/step - loss: 0.4293 - accuracy: 0.8182\n",
            "Epoch 36/50\n",
            "8/8 [==============================] - 0s 3ms/step - loss: 0.4491 - accuracy: 0.7727\n",
            "Epoch 37/50\n",
            "8/8 [==============================] - 0s 3ms/step - loss: 0.4221 - accuracy: 0.8017\n",
            "Epoch 38/50\n",
            "8/8 [==============================] - 0s 4ms/step - loss: 0.4009 - accuracy: 0.8306\n",
            "Epoch 39/50\n",
            "8/8 [==============================] - 0s 3ms/step - loss: 0.4163 - accuracy: 0.8058\n",
            "Epoch 40/50\n",
            "8/8 [==============================] - 0s 4ms/step - loss: 0.4321 - accuracy: 0.7769\n",
            "Epoch 41/50\n",
            "8/8 [==============================] - 0s 4ms/step - loss: 0.4502 - accuracy: 0.7975\n",
            "Epoch 42/50\n",
            "8/8 [==============================] - 0s 4ms/step - loss: 0.3974 - accuracy: 0.8182\n",
            "Epoch 43/50\n",
            "8/8 [==============================] - 0s 4ms/step - loss: 0.3826 - accuracy: 0.8388\n",
            "Epoch 44/50\n",
            "8/8 [==============================] - 0s 4ms/step - loss: 0.4122 - accuracy: 0.8223\n",
            "Epoch 45/50\n",
            "8/8 [==============================] - 0s 4ms/step - loss: 0.4244 - accuracy: 0.8223\n",
            "Epoch 46/50\n",
            "8/8 [==============================] - 0s 4ms/step - loss: 0.3893 - accuracy: 0.8430\n",
            "Epoch 47/50\n",
            "8/8 [==============================] - 0s 4ms/step - loss: 0.3977 - accuracy: 0.8347\n",
            "Epoch 48/50\n",
            "8/8 [==============================] - 0s 4ms/step - loss: 0.4126 - accuracy: 0.7893\n",
            "Epoch 49/50\n",
            "8/8 [==============================] - 0s 4ms/step - loss: 0.3854 - accuracy: 0.8264\n",
            "Epoch 50/50\n",
            "8/8 [==============================] - 0s 4ms/step - loss: 0.3821 - accuracy: 0.8306\n",
            "Epoch 1/50\n",
            "8/8 [==============================] - 0s 4ms/step - loss: 3.9438 - accuracy: 0.3595 \n",
            "Epoch 2/50\n",
            "8/8 [==============================] - 0s 4ms/step - loss: 1.8121 - accuracy: 0.5331\n",
            "Epoch 3/50\n",
            "8/8 [==============================] - 0s 4ms/step - loss: 0.9353 - accuracy: 0.6322\n",
            "Epoch 4/50\n",
            "8/8 [==============================] - 0s 4ms/step - loss: 0.8538 - accuracy: 0.6157\n",
            "Epoch 5/50\n",
            "8/8 [==============================] - 0s 4ms/step - loss: 0.8920 - accuracy: 0.6157\n",
            "Epoch 6/50\n",
            "8/8 [==============================] - 0s 4ms/step - loss: 0.9306 - accuracy: 0.5496\n",
            "Epoch 7/50\n",
            "8/8 [==============================] - 0s 4ms/step - loss: 0.7900 - accuracy: 0.6198\n",
            "Epoch 8/50\n",
            "8/8 [==============================] - 0s 4ms/step - loss: 0.6321 - accuracy: 0.6529\n",
            "Epoch 9/50\n",
            "8/8 [==============================] - 0s 4ms/step - loss: 0.6302 - accuracy: 0.6777\n",
            "Epoch 10/50\n",
            "8/8 [==============================] - 0s 4ms/step - loss: 0.7680 - accuracy: 0.5992\n",
            "Epoch 11/50\n",
            "8/8 [==============================] - 0s 4ms/step - loss: 0.7019 - accuracy: 0.6612\n",
            "Epoch 12/50\n",
            "8/8 [==============================] - 0s 4ms/step - loss: 0.6406 - accuracy: 0.6529\n",
            "Epoch 13/50\n",
            "8/8 [==============================] - 0s 4ms/step - loss: 0.7164 - accuracy: 0.6405\n",
            "Epoch 14/50\n",
            "8/8 [==============================] - 0s 4ms/step - loss: 0.6863 - accuracy: 0.6612\n",
            "Epoch 15/50\n",
            "8/8 [==============================] - 0s 4ms/step - loss: 0.6952 - accuracy: 0.6116\n",
            "Epoch 16/50\n",
            "8/8 [==============================] - 0s 4ms/step - loss: 0.5689 - accuracy: 0.6901\n",
            "Epoch 17/50\n",
            "8/8 [==============================] - 0s 4ms/step - loss: 0.6898 - accuracy: 0.6281\n",
            "Epoch 18/50\n",
            "8/8 [==============================] - 0s 4ms/step - loss: 0.5188 - accuracy: 0.7686\n",
            "Epoch 19/50\n",
            "8/8 [==============================] - 0s 4ms/step - loss: 0.5403 - accuracy: 0.6942\n",
            "Epoch 20/50\n",
            "8/8 [==============================] - 0s 4ms/step - loss: 0.5800 - accuracy: 0.6942\n",
            "Epoch 21/50\n",
            "8/8 [==============================] - 0s 4ms/step - loss: 0.5853 - accuracy: 0.6983\n",
            "Epoch 22/50\n",
            "8/8 [==============================] - 0s 4ms/step - loss: 0.5184 - accuracy: 0.7066\n",
            "Epoch 23/50\n",
            "8/8 [==============================] - 0s 4ms/step - loss: 0.5284 - accuracy: 0.7149\n",
            "Epoch 24/50\n",
            "8/8 [==============================] - 0s 4ms/step - loss: 0.6221 - accuracy: 0.6942\n",
            "Epoch 25/50\n",
            "8/8 [==============================] - 0s 4ms/step - loss: 0.6859 - accuracy: 0.6364\n",
            "Epoch 26/50\n",
            "8/8 [==============================] - 0s 3ms/step - loss: 0.6080 - accuracy: 0.6653\n",
            "Epoch 27/50\n",
            "8/8 [==============================] - 0s 4ms/step - loss: 0.5175 - accuracy: 0.7727\n",
            "Epoch 28/50\n",
            "8/8 [==============================] - 0s 4ms/step - loss: 0.5713 - accuracy: 0.7066\n",
            "Epoch 29/50\n",
            "8/8 [==============================] - 0s 4ms/step - loss: 0.6176 - accuracy: 0.6777\n",
            "Epoch 30/50\n",
            "8/8 [==============================] - 0s 4ms/step - loss: 0.5088 - accuracy: 0.7355\n",
            "Epoch 31/50\n",
            "8/8 [==============================] - 0s 4ms/step - loss: 0.4844 - accuracy: 0.7603\n",
            "Epoch 32/50\n",
            "8/8 [==============================] - 0s 4ms/step - loss: 0.4666 - accuracy: 0.7893\n",
            "Epoch 33/50\n",
            "8/8 [==============================] - 0s 4ms/step - loss: 0.4798 - accuracy: 0.7438\n",
            "Epoch 34/50\n",
            "8/8 [==============================] - 0s 4ms/step - loss: 0.5410 - accuracy: 0.7314\n",
            "Epoch 35/50\n",
            "8/8 [==============================] - 0s 4ms/step - loss: 0.5326 - accuracy: 0.7231\n",
            "Epoch 36/50\n",
            "8/8 [==============================] - 0s 4ms/step - loss: 0.5127 - accuracy: 0.7314\n",
            "Epoch 37/50\n",
            "8/8 [==============================] - 0s 4ms/step - loss: 0.4832 - accuracy: 0.7438\n",
            "Epoch 38/50\n",
            "8/8 [==============================] - 0s 4ms/step - loss: 0.4991 - accuracy: 0.7727\n",
            "Epoch 39/50\n",
            "8/8 [==============================] - 0s 4ms/step - loss: 0.5121 - accuracy: 0.7479\n",
            "Epoch 40/50\n",
            "8/8 [==============================] - 0s 4ms/step - loss: 0.4752 - accuracy: 0.7686\n",
            "Epoch 41/50\n",
            "8/8 [==============================] - 0s 4ms/step - loss: 0.5171 - accuracy: 0.7397\n",
            "Epoch 42/50\n",
            "8/8 [==============================] - 0s 4ms/step - loss: 0.4864 - accuracy: 0.7645\n",
            "Epoch 43/50\n",
            "8/8 [==============================] - 0s 4ms/step - loss: 0.4540 - accuracy: 0.7810\n",
            "Epoch 44/50\n",
            "8/8 [==============================] - 0s 4ms/step - loss: 0.4722 - accuracy: 0.7769\n",
            "Epoch 45/50\n",
            "8/8 [==============================] - 0s 4ms/step - loss: 0.5502 - accuracy: 0.6942\n",
            "Epoch 46/50\n",
            "8/8 [==============================] - 0s 4ms/step - loss: 0.5596 - accuracy: 0.7273\n",
            "Epoch 47/50\n",
            "8/8 [==============================] - 0s 4ms/step - loss: 0.6033 - accuracy: 0.7149\n",
            "Epoch 48/50\n",
            "8/8 [==============================] - 0s 4ms/step - loss: 0.7134 - accuracy: 0.6446\n",
            "Epoch 49/50\n",
            "8/8 [==============================] - 0s 4ms/step - loss: 0.8203 - accuracy: 0.6446\n",
            "Epoch 50/50\n",
            "8/8 [==============================] - 0s 4ms/step - loss: 0.5660 - accuracy: 0.7438\n"
          ],
          "name": "stdout"
        }
      ]
    },
    {
      "cell_type": "code",
      "metadata": {
        "id": "VUrAlyzjD2ZT",
        "outputId": "73c359fd-ff31-4be5-9e17-2177b24f1feb",
        "colab": {
          "base_uri": "https://localhost:8080/",
          "height": 134
        }
      },
      "source": [
        "print(\"*************Neural Network*************************\")\n",
        "print(\"******************************************************\")\n",
        "print(\"Accuracy without using two features namely \\\"sex\\\" , \\\"age\\\" : \")\n",
        "\n",
        "print(accuracy_score(test_y,pred1))\n",
        "print(\"*******************************************************\")\n",
        "print(\"Accuracy with using two features namely \\\"sex\\\" , \\\"age\\\" : \")\n",
        "print(accuracy_score(y_test,pred2))"
      ],
      "execution_count": null,
      "outputs": [
        {
          "output_type": "stream",
          "text": [
            "*************Neural Network*************************\n",
            "******************************************************\n",
            "Accuracy without using two features namely \"sex\" , \"age\" : \n",
            "0.6065573770491803\n",
            "*******************************************************\n",
            "Accuracy with using two features namely \"sex\" , \"age\" : \n",
            "0.8032786885245902\n"
          ],
          "name": "stdout"
        }
      ]
    },
    {
      "cell_type": "code",
      "metadata": {
        "id": "nbIs4icSJgHS",
        "outputId": "02a037fe-bda9-4bb4-a615-a0ab0f7b4b03",
        "colab": {
          "base_uri": "https://localhost:8080/",
          "height": 67
        }
      },
      "source": [
        "accuracy_dict[11] = []\n",
        "fscore_dict[11] = []\n",
        "accuracy_dict[13] = []\n",
        "fscore_dict[13] = []\n",
        "\n",
        "accuracy_dict[11].append(accuracy_score(test_y, pred1))\n",
        "fscore_dict[11].append(f1_score(test_y, pred1, average='macro'))\n",
        "print(\"*******************************************************\")\n",
        "print(\"F1 score without using two features namely \\\"sex\\\" , \\\"age\\\" : \")\n",
        "print(\"F1 score\",f1_score(test_y, pred1, average='macro'))"
      ],
      "execution_count": null,
      "outputs": [
        {
          "output_type": "stream",
          "text": [
            "*******************************************************\n",
            "F1 score without using two features namely \"sex\" , \"age\" : \n",
            "F1 score 0.6038961038961039\n"
          ],
          "name": "stdout"
        }
      ]
    },
    {
      "cell_type": "code",
      "metadata": {
        "id": "ZrT9jDAjK58k",
        "outputId": "0d71aa33-57e3-4d20-f8e6-1aa4113298fa",
        "colab": {
          "base_uri": "https://localhost:8080/",
          "height": 67
        }
      },
      "source": [
        "accuracy_dict[13].append(accuracy_score(y_test, pred2))\n",
        "fscore_dict[13].append(f1_score(y_test, pred2, average='macro'))\n",
        "print(\"*******************************************************\")\n",
        "print(\"F1 score with using two features namely \\\"sex\\\" , \\\"age\\\" : \")\n",
        "print(\"F1 score\",f1_score(y_test, pred2, average='macro'))"
      ],
      "execution_count": null,
      "outputs": [
        {
          "output_type": "stream",
          "text": [
            "*******************************************************\n",
            "F1 score with using two features namely \"sex\" , \"age\" : \n",
            "F1 score 0.8006535947712419\n"
          ],
          "name": "stdout"
        }
      ]
    },
    {
      "cell_type": "markdown",
      "metadata": {
        "id": "MUuvuXyPt7PU"
      },
      "source": [
        "**SVM MODEL**"
      ]
    },
    {
      "cell_type": "code",
      "metadata": {
        "id": "WWhPcRTEl2LE",
        "outputId": "52f45d7e-09ba-43a6-9dd2-6ed71970aeff",
        "colab": {
          "base_uri": "https://localhost:8080/",
          "height": 151
        }
      },
      "source": [
        "def notmalise__in_0to_1Data(fullcol):\n",
        "# -----------------------------------------------------------------------------------------\n",
        "    min_is=min(fullcol)\n",
        "    max_is=max(fullcol)\n",
        "    fullcol1=fullcol.apply(lambda x:((x-min_is)/(max_is-min_is)))\n",
        "    \n",
        "#     ---------------------------------------------\n",
        "    \n",
        "    return fullcol1\n",
        "from sklearn.svm import SVC \n",
        "from sklearn.model_selection import GridSearchCV \n",
        "from sklearn import svm\n",
        "from sklearn.metrics import accuracy_score\n",
        "from sklearn.model_selection import cross_val_score,train_test_split\n",
        "from sklearn import preprocessing\n",
        "from sklearn import metrics\n",
        "import pandas as pd\n",
        "import numpy as np\n",
        "df=pd.read_csv(\"/content/drive/My Drive/BDMH/heart.csv\", header = 0)\n",
        "df1=pd.read_csv(\"/content/drive/My Drive/BDMH/heart.csv\", header = 0)\n",
        "X= df.drop(columns=['target','age','sex'],axis=0)\n",
        "X1=df1.drop(columns=['target'],axis=0)\n",
        "y=df['target']\n",
        "y1=df['target']\n",
        "X_train, X_test, y_train, y_test = train_test_split(X, y, test_size=0.2)\n",
        "X_train_normalise=X_train.apply(lambda col: notmalise__in_0to_1Data(col), axis = 0)\n",
        "X_test_normalise=X_test.apply(lambda col: notmalise__in_0to_1Data(col), axis = 0)\n",
        "svm1 =SVC(C=1000,gamma=0.01,kernel=\"rbf\")\n",
        "svm1.fit(X_train_normalise, y_train)\n",
        "\n",
        "svm_predict= svm1.predict(X_test_normalise)\n",
        "print(\"Accuracy of svm (Without age and sex) is \",metrics.accuracy_score(y_test, svm_predict))\n",
        "accuracy_dict[11].append(accuracy_score(y_test, svm_predict))\n",
        "fscore_dict[11].append(f1_score(y_test, svm_predict, average='macro'))\n",
        "print(\"*******************************************************\")\n",
        "print(\"F1 score without using two features namely \\\"sex\\\" , \\\"age\\\" : \")\n",
        "print(\"F1 score\",f1_score(y_test, svm_predict, average='macro'))\n",
        "X_train, X_test, y_train, y_test = train_test_split(X1, y1, test_size=0.2)\n",
        "X_train_normalise=X_train.apply(lambda col: notmalise__in_0to_1Data(col), axis = 0)\n",
        "X_test_normalise=X_test.apply(lambda col: notmalise__in_0to_1Data(col), axis = 0)\n",
        "svm1 =SVC(C=1000,gamma=0.01,kernel=\"rbf\")\n",
        "svm1.fit(X_train_normalise, y_train)\n",
        "\n",
        "svm_predict= svm1.predict(X_test_normalise)\n",
        "print(\"Accuracy of svm (With age and sex)  is \",metrics.accuracy_score(y_test, svm_predict))\n",
        "accuracy_dict[13].append(accuracy_score(y_test, svm_predict))\n",
        "fscore_dict[13].append(f1_score(y_test, svm_predict, average='macro'))\n",
        "print(\"*******************************************************\")\n",
        "print(\"F1 score with using two features namely \\\"sex\\\" , \\\"age\\\" : \")\n",
        "print(\"F1 score\",f1_score(y_test, svm_predict, average='macro'))"
      ],
      "execution_count": null,
      "outputs": [
        {
          "output_type": "stream",
          "text": [
            "Accuracy of svm (Without age and sex) is  0.7704918032786885\n",
            "*******************************************************\n",
            "F1 score without using two features namely \"sex\" , \"age\" : \n",
            "F1 score 0.7511655011655012\n",
            "Accuracy of svm (With age and sex)  is  0.8360655737704918\n",
            "*******************************************************\n",
            "F1 score with using two features namely \"sex\" , \"age\" : \n",
            "F1 score 0.8338779956427014\n"
          ],
          "name": "stdout"
        }
      ]
    },
    {
      "cell_type": "markdown",
      "metadata": {
        "id": "Q3i9t5vXoVpx"
      },
      "source": [
        "**LOGISTIC REGRESSION**"
      ]
    },
    {
      "cell_type": "code",
      "metadata": {
        "id": "TtHBuRk0oxpA",
        "outputId": "7161bfd3-89d2-40f4-cf34-86178b5fef6d",
        "colab": {
          "base_uri": "https://localhost:8080/",
          "height": 504
        }
      },
      "source": [
        "from sklearn.linear_model import LogisticRegression\n",
        "\n",
        "data = pd.read_csv('/content/drive/My Drive/BDMH/heart.csv')\n",
        "data2 = pd.read_csv('/content/drive/My Drive/BDMH/heart.csv')\n",
        "d=data.isnull().sum(axis = 1)\n",
        "x=data['target']\n",
        "a = data['age']\n",
        "s = data['sex']\n",
        "data = data.drop(columns=['target','age','sex'],axis=0)\n",
        "data2=data2.drop(columns=['target'],axis=0)\n",
        "classifier = LogisticRegression()\n",
        "x_train,x_test,y_train,y_test=train_test_split(data,x,test_size=0.2)\n",
        "classifier.fit(x_train, y_train)\n",
        "y=classifier.predict(x_test)\n",
        "print(\"----------------------------------- Logistic Regression MODEL -----------------------------------\")\n",
        "print(\"***********************Without age and sex column************************\")\n",
        "print(\"ACCURACY SCORE:-\",accuracy_score(y_test,y))\n",
        "accuracy_dict[11].append(accuracy_score(y_test, y))\n",
        "fscore_dict[11].append(f1_score(y_test, y, average='macro'))\n",
        "print(\"*******************************************************\")\n",
        "print(\"F1 score without using two features namely \\\"sex\\\" , \\\"age\\\" : \")\n",
        "print(\"F1 score\",f1_score(y_test, y, average='macro'))\n",
        "print(\"\\n\")\n",
        "x_train1,x_test1,y_train1,y_test1=train_test_split(data2,x,test_size=0.2)\n",
        "classifier.fit(x_train1,y_train1)\n",
        "y1=classifier.predict(x_test1)\n",
        "print(\"**********************With age and sex column****************************\")\n",
        "print(\"ACCURACY SCORE:-\",accuracy_score(y_test1,y1))\n",
        "accuracy_dict[13].append(accuracy_score(y_test1, y1))\n",
        "fscore_dict[13].append(f1_score(y_test1, y1, average='macro'))\n",
        "print(\"*******************************************************\")\n",
        "print(\"F1 score with using two features namely \\\"sex\\\" , \\\"age\\\" : \")\n",
        "print(\"F1 score\",f1_score(y_test1, y1, average='macro'))\n",
        "\n",
        "\n"
      ],
      "execution_count": null,
      "outputs": [
        {
          "output_type": "stream",
          "text": [
            "----------------------------------- Logistic Regression MODEL -----------------------------------\n",
            "***********************Without age and sex column************************\n",
            "ACCURACY SCORE:- 0.8032786885245902\n",
            "*******************************************************\n",
            "F1 score without using two features namely \"sex\" , \"age\" : \n",
            "F1 score 0.8006535947712419\n",
            "\n",
            "\n",
            "**********************With age and sex column****************************\n",
            "ACCURACY SCORE:- 0.8524590163934426\n",
            "*******************************************************\n",
            "F1 score with using two features namely \"sex\" , \"age\" : \n",
            "F1 score 0.8523002421307506\n"
          ],
          "name": "stdout"
        },
        {
          "output_type": "stream",
          "text": [
            "/usr/local/lib/python3.6/dist-packages/sklearn/linear_model/_logistic.py:940: ConvergenceWarning: lbfgs failed to converge (status=1):\n",
            "STOP: TOTAL NO. of ITERATIONS REACHED LIMIT.\n",
            "\n",
            "Increase the number of iterations (max_iter) or scale the data as shown in:\n",
            "    https://scikit-learn.org/stable/modules/preprocessing.html\n",
            "Please also refer to the documentation for alternative solver options:\n",
            "    https://scikit-learn.org/stable/modules/linear_model.html#logistic-regression\n",
            "  extra_warning_msg=_LOGISTIC_SOLVER_CONVERGENCE_MSG)\n",
            "/usr/local/lib/python3.6/dist-packages/sklearn/linear_model/_logistic.py:940: ConvergenceWarning: lbfgs failed to converge (status=1):\n",
            "STOP: TOTAL NO. of ITERATIONS REACHED LIMIT.\n",
            "\n",
            "Increase the number of iterations (max_iter) or scale the data as shown in:\n",
            "    https://scikit-learn.org/stable/modules/preprocessing.html\n",
            "Please also refer to the documentation for alternative solver options:\n",
            "    https://scikit-learn.org/stable/modules/linear_model.html#logistic-regression\n",
            "  extra_warning_msg=_LOGISTIC_SOLVER_CONVERGENCE_MSG)\n"
          ],
          "name": "stderr"
        }
      ]
    },
    {
      "cell_type": "markdown",
      "metadata": {
        "id": "3YU2-6SxqAh0"
      },
      "source": [
        "**RANDOM FOREST**"
      ]
    },
    {
      "cell_type": "code",
      "metadata": {
        "id": "ltR6xfy5qGs6",
        "outputId": "4192127b-6950-4cf9-a775-c226a8702442",
        "colab": {
          "base_uri": "https://localhost:8080/",
          "height": 168
        }
      },
      "source": [
        "from sklearn.ensemble import RandomForestClassifier\n",
        "data = pd.read_csv('/content/drive/My Drive/BDMH/heart.csv')\n",
        "data2 = pd.read_csv('/content/drive/My Drive/BDMH/heart.csv')\n",
        "d=data.isnull().sum(axis = 1)\n",
        "x=data['target']\n",
        "a = data['age']\n",
        "s = data['sex']\n",
        "data = data.drop(columns=['target','age','sex'],axis=0)\n",
        "data2=data2.drop(columns=['target'],axis=0)\n",
        "classifier = RandomForestClassifier(max_depth=2, random_state=0)\n",
        "x_train,x_test,y_train,y_test=train_test_split(data,x,test_size=0.2)\n",
        "classifier.fit(x_train, y_train)\n",
        "y=classifier.predict(x_test)\n",
        "print(\"----------------------------------- Random-Forest Model -----------------------------------\")\n",
        "print(\"***********************Without age and sex column************************\")\n",
        "print(\"ACCURACY SCORE:-\",accuracy_score(y_test,y))\n",
        "accuracy_dict[11].append(accuracy_score(y_test, y))\n",
        "fscore_dict[11].append(f1_score(y_test, y, average='macro'))\n",
        "print(\"F1 score\",f1_score(y_test, y, average='macro'))\n",
        "print(\"\\n\")\n",
        "\n",
        "x_train1,x_test1,y_train1,y_test1=train_test_split(data2,x,test_size=0.2)\n",
        "classifier.fit(x_train1,y_train1)\n",
        "y1=classifier.predict(x_test1)\n",
        "print(\"**********************With age and sex column****************************\")\n",
        "print(\"ACCURACY SCORE:-\",accuracy_score(y_test1,y1))\n",
        "accuracy_dict[13].append(accuracy_score(y_test1, y1))\n",
        "fscore_dict[13].append(f1_score(y_test1, y1, average='macro'))\n",
        "print(\"F1 score\",f1_score(y_test1, y1, average='macro'))"
      ],
      "execution_count": null,
      "outputs": [
        {
          "output_type": "stream",
          "text": [
            "----------------------------------- Random-Forest Model -----------------------------------\n",
            "***********************Without age and sex column************************\n",
            "ACCURACY SCORE:- 0.7868852459016393\n",
            "F1 score 0.7750354609929078\n",
            "\n",
            "\n",
            "**********************With age and sex column****************************\n",
            "ACCURACY SCORE:- 0.819672131147541\n",
            "F1 score 0.8165162701668034\n"
          ],
          "name": "stdout"
        }
      ]
    },
    {
      "cell_type": "markdown",
      "metadata": {
        "id": "J8DL4vKFi7Pj"
      },
      "source": [
        "**NAIVE-BAYES MODEL**"
      ]
    },
    {
      "cell_type": "code",
      "metadata": {
        "id": "11ASd8vtfLaT",
        "outputId": "c834c6eb-c9ed-4894-93c8-16cf614cea0f",
        "colab": {
          "base_uri": "https://localhost:8080/",
          "height": 185
        }
      },
      "source": [
        "from sklearn.metrics import accuracy_score\n",
        "from sklearn.naive_bayes import GaussianNB\n",
        "data = pd.read_csv(\"/content/drive/My Drive/BDMH/heart.csv\")\n",
        "data2 = pd.read_csv(\"/content/drive/My Drive/BDMH/heart.csv\")\n",
        "d=data.isnull().sum(axis = 1)\n",
        "x=data['target']\n",
        "a = data['age']\n",
        "s = data['sex']\n",
        "data = data.drop(columns=['target','age','sex'],axis=0)\n",
        "data2=data2.drop(columns=['target'],axis=0)\n",
        "x_train,x_test,y_train,y_test=train_test_split(data,x,test_size=0.2)\n",
        "nb = GaussianNB()\n",
        "nb.fit(x_train,y_train)\n",
        "pred = nb.predict(x_test)\n",
        "print(\"----------------------------------- Naive-Bayes MODEL -----------------------------------\")\n",
        "print(\"***********************Without age and sex column************************\")\n",
        "print(\"Accuracy\",accuracy_score(y_test,pred))\n",
        "accuracy_dict[11].append(accuracy_score(y_test, pred))\n",
        "fscore_dict[11].append(f1_score(y_test, pred, average='macro'))\n",
        "print(\"F1 score\",f1_score(y_test, pred, average='macro'))\n",
        "print(\"\\n\")\n",
        "x_train,x_test,y_train,y_test=train_test_split(data2,x,test_size=0.2)\n",
        "nb = GaussianNB()\n",
        "nb.fit(x_train,y_train)\n",
        "pred = nb.predict(x_test)\n",
        "print(\"----------------------------------- Naive-Bayes MODEL -----------------------------------\")\n",
        "print(\"***********************With age and sex column************************\")\n",
        "print(\"Accuracy\",accuracy_score(y_test,pred))\n",
        "accuracy_dict[13].append(accuracy_score(y_test, pred))\n",
        "fscore_dict[13].append(f1_score(y_test, pred, average='macro'))\n",
        "print(\"F1 score\",f1_score(y_test, pred, average='macro'))"
      ],
      "execution_count": null,
      "outputs": [
        {
          "output_type": "stream",
          "text": [
            "----------------------------------- Naive-Bayes MODEL -----------------------------------\n",
            "***********************Without age and sex column************************\n",
            "Accuracy 0.8360655737704918\n",
            "F1 score 0.8282657657657657\n",
            "\n",
            "\n",
            "----------------------------------- Naive-Bayes MODEL -----------------------------------\n",
            "***********************With age and sex column************************\n",
            "Accuracy 0.7704918032786885\n",
            "F1 score 0.7396341463414634\n"
          ],
          "name": "stdout"
        }
      ]
    },
    {
      "cell_type": "markdown",
      "metadata": {
        "id": "RCcml5JZi1CM"
      },
      "source": [
        "**KNN MODEL**"
      ]
    },
    {
      "cell_type": "code",
      "metadata": {
        "id": "ZV_eax6iiMQt",
        "outputId": "6305f7f7-090c-4cc5-c267-7ba652d5df96",
        "colab": {
          "base_uri": "https://localhost:8080/",
          "height": 202
        }
      },
      "source": [
        "import pandas as pd\n",
        "from sklearn.neighbors import KNeighborsClassifier\n",
        "from sklearn.metrics import accuracy_score\n",
        "from sklearn.model_selection import train_test_split\n",
        "data = pd.read_csv('/content/drive/My Drive/BDMH/heart.csv')\n",
        "data2 = pd.read_csv('/content/drive/My Drive/BDMH/heart.csv')\n",
        "d=data.isnull().sum(axis = 1)\n",
        "x=data['target']\n",
        "a = data['age']\n",
        "s = data['sex']\n",
        "data = data.drop(columns=['target','age','sex'],axis=0)\n",
        "data2=data2.drop(columns=['target'],axis=0)\n",
        "classifier = KNeighborsClassifier(n_neighbors=4)\n",
        "x_train,x_test,y_train,y_test=train_test_split(data,x,test_size=0.2)\n",
        "classifier.fit(x_train, y_train)\n",
        "y=classifier.predict(x_test)\n",
        "print(\"----------------------------------- KNN MODEL -----------------------------------\")\n",
        "print(\"***********************Without age and sex column************************\")\n",
        "print(\"ACCURACY SCORE:-\",accuracy_score(y_test,y))\n",
        "accuracy_dict[11].append(accuracy_score(y_test, y))\n",
        "fscore_dict[11].append(f1_score(y_test, y, average='macro'))\n",
        "print(\"F1 score\",f1_score(y_test, y, average='macro'))\n",
        "print(\"\\n\")\n",
        "\n",
        "x_train1,x_test1,y_train1,y_test1=train_test_split(data2,x,test_size=0.2)\n",
        "classifier.fit(x_train1,y_train1)\n",
        "y1=classifier.predict(x_test1)\n",
        "print(\"**********************With age and sex column****************************\")\n",
        "print(\"ACCURACY SCORE:-\",accuracy_score(y_test1,y1))\n",
        "accuracy_dict[13].append(accuracy_score(y_test1, y1))\n",
        "fscore_dict[13].append(f1_score(y_test1, y1, average='macro'))\n",
        "print(\"F1 score\",f1_score(y_test1, y1, average='macro'))\n",
        "print(\"\\n\")\n"
      ],
      "execution_count": null,
      "outputs": [
        {
          "output_type": "stream",
          "text": [
            "----------------------------------- KNN MODEL -----------------------------------\n",
            "***********************Without age and sex column************************\n",
            "ACCURACY SCORE:- 0.6229508196721312\n",
            "F1 score 0.6213225371120108\n",
            "\n",
            "\n",
            "**********************With age and sex column****************************\n",
            "ACCURACY SCORE:- 0.5901639344262295\n",
            "F1 score 0.5829915231063714\n",
            "\n",
            "\n"
          ],
          "name": "stdout"
        }
      ]
    },
    {
      "cell_type": "markdown",
      "metadata": {
        "id": "rRuDnEpRitJn"
      },
      "source": [
        "**DECISION-TREE CLASSIFIER**"
      ]
    },
    {
      "cell_type": "code",
      "metadata": {
        "id": "vSXxSAD5hU4c",
        "outputId": "8916834b-2ce2-4128-b2d7-d818324c0388",
        "colab": {
          "base_uri": "https://localhost:8080/",
          "height": 235
        }
      },
      "source": [
        "import pandas as pd\n",
        "from sklearn.tree import DecisionTreeClassifier as cl\n",
        "from sklearn.metrics import accuracy_score\n",
        "from sklearn.model_selection import train_test_split\n",
        "data = pd.read_csv('/content/drive/My Drive/BDMH/heart.csv')\n",
        "data2 = pd.read_csv('/content/drive/My Drive/BDMH/heart.csv')\n",
        "d=data.isnull().sum(axis = 1)\n",
        "x=data['target']\n",
        "a = data['age']\n",
        "s = data['sex']\n",
        "data = data.drop(columns=['target','age','sex'],axis=0)\n",
        "\n",
        "def count(x):\n",
        "    count=0\n",
        "    for i in x:\n",
        "        if i==0:\n",
        "            count=count+1\n",
        "        else:\n",
        "            continue\n",
        "    return count\n",
        "data2=data2.drop(columns=['target'],axis=0)\n",
        "print(\"Target is 0(i.e. not having heart disease) for\",count(x),\"patients\")\n",
        "print(\"Target is 1(i.e. having heart disease) for\" ,len(x)-count(x),\"patients\")\n",
        "clf = cl(random_state=0,criterion='entropy')\n",
        "x_train,x_test,y_train,y_test=train_test_split(data,x,test_size=0.2)\n",
        "clf.fit(x_train,y_train)\n",
        "y=clf.predict(x_test)\n",
        "print(\"***********Decision-tree***************\")\n",
        "print(\"***********************Without age and sex column************************\")\n",
        "print(\"Accuracy\",accuracy_score(y_test,y))\n",
        "accuracy_dict[11].append(accuracy_score(y_test, y))\n",
        "fscore_dict[11].append(f1_score(y_test, y, average='macro'))\n",
        "print(\"F1 score\",f1_score(y_test, y, average='macro'))\n",
        "print(\"\\n\")\n",
        "\n",
        "x_train1,x_test1,y_train1,y_test1=train_test_split(data2,x,test_size=0.2)\n",
        "clf.fit(x_train1,y_train1)\n",
        "y1=clf.predict(x_test1)\n",
        "print(\"***********************With age and sex column************************\")\n",
        "print(accuracy_score(y_test1,y1))\n",
        "accuracy_dict[13].append(accuracy_score(y_test1, y1))\n",
        "fscore_dict[13].append(f1_score(y_test1, y1, average='macro'))\n",
        "print(\"F1 score\",f1_score(y_test1, y1, average='macro'))\n",
        "print(\"\\n\")"
      ],
      "execution_count": null,
      "outputs": [
        {
          "output_type": "stream",
          "text": [
            "Target is 0(i.e. not having heart disease) for 138 patients\n",
            "Target is 1(i.e. having heart disease) for 165 patients\n",
            "***********Decision-tree***************\n",
            "***********************Without age and sex column************************\n",
            "Accuracy 0.8524590163934426\n",
            "F1 score 0.8498769483182936\n",
            "\n",
            "\n",
            "***********************With age and sex column************************\n",
            "0.7540983606557377\n",
            "F1 score 0.7530364372469636\n",
            "\n",
            "\n"
          ],
          "name": "stdout"
        }
      ]
    },
    {
      "cell_type": "markdown",
      "metadata": {
        "id": "PkY5OTIficAA"
      },
      "source": [
        "**HYBRID APPROACH USING LASSO(LINEAR MODEL) AND RANDOM-FOREST**\n"
      ]
    },
    {
      "cell_type": "code",
      "metadata": {
        "id": "LBNLzQe1fzeF",
        "outputId": "dca85e5f-2aa4-46dd-c37f-56375c2e32d0",
        "colab": {
          "base_uri": "https://localhost:8080/",
          "height": 50
        }
      },
      "source": [
        "from sklearn.ensemble import RandomForestClassifier\n",
        "from sklearn.datasets import make_regression\n",
        "from sklearn.linear_model import Lasso\n",
        "regr = RandomForestClassifier()\n",
        "ridge = Lasso(alpha=1.0)\n",
        "data3 = pd.read_csv(\"/content/drive/My Drive/BDMH/heart.csv\")\n",
        "target = data3['target']\n",
        "data3 = data3.drop(columns=['target','age','sex'],axis=0)\n",
        "ridge.fit(data3,target)\n",
        "cof=ridge.coef_\n",
        "c=0\n",
        "to_be_d = []\n",
        "for i in data3.columns:\n",
        "  if cof[c]<0:\n",
        "    to_be_d.append(i)\n",
        "  c=c+1\n",
        "data3 = data3.drop(columns=to_be_d,axis=0)\n",
        "x_tr,x_te,y_tr,y_te = train_test_split(data3,target,test_size=0.2)\n",
        "print(cof)\n",
        "regr.fit(x_tr, y_tr)\n",
        "p = regr.predict(x_te)\n"
      ],
      "execution_count": null,
      "outputs": [
        {
          "output_type": "stream",
          "text": [
            "[ 0.         -0.00027102 -0.00040373 -0.          0.          0.00725366\n",
            " -0.         -0.          0.         -0.         -0.        ]\n"
          ],
          "name": "stdout"
        }
      ]
    },
    {
      "cell_type": "code",
      "metadata": {
        "id": "4HgOr6qNgfA4",
        "outputId": "f6f37f03-98ee-4d90-8433-a5fabf6c4703",
        "colab": {
          "base_uri": "https://localhost:8080/",
          "height": 118
        }
      },
      "source": [
        "print(\"**************************************************\")\n",
        "print(\"Without age and sex column\")\n",
        "print(\"Accuracy\",accuracy_score(p,y_te))\n",
        "accuracy_dict[11].append(accuracy_score(p, y_te))\n",
        "fscore_dict[11].append(f1_score(p, y_te, average='macro'))\n",
        "print(\"F1 score\",f1_score(p, y_te, average='macro'))\n",
        "print(\"\\n\")"
      ],
      "execution_count": null,
      "outputs": [
        {
          "output_type": "stream",
          "text": [
            "**************************************************\n",
            "Without age and sex column\n",
            "Accuracy 0.7704918032786885\n",
            "F1 score 0.7396341463414635\n",
            "\n",
            "\n"
          ],
          "name": "stdout"
        }
      ]
    },
    {
      "cell_type": "code",
      "metadata": {
        "id": "ORVW6_MWqqTj",
        "outputId": "89b909ae-7a1f-462d-d86e-0977a3e12285",
        "colab": {
          "base_uri": "https://localhost:8080/",
          "height": 67
        }
      },
      "source": [
        "from sklearn.ensemble import RandomForestClassifier\n",
        "from sklearn.datasets import make_regression\n",
        "from sklearn.linear_model import Lasso\n",
        "regr = RandomForestClassifier()\n",
        "ridge = Lasso(alpha=1.0)\n",
        "data3 = pd.read_csv(\"/content/drive/My Drive/BDMH/heart.csv\")\n",
        "target = data3['target']\n",
        "data3 = data3.drop(columns=['target'],axis=0)\n",
        "ridge.fit(data3,target)\n",
        "cof=ridge.coef_\n",
        "c=0\n",
        "to_be_d = []\n",
        "for i in data3.columns:\n",
        "  if cof[c]<0:\n",
        "    to_be_d.append(i)\n",
        "  c=c+1\n",
        "data3 = data3.drop(columns=to_be_d,axis=0)\n",
        "x_tr,x_te,y_tr,y_te = train_test_split(data3,target,test_size=0.2)\n",
        "print(cof)\n",
        "regr.fit(x_tr, y_tr)\n",
        "p = regr.predict(x_te)"
      ],
      "execution_count": null,
      "outputs": [
        {
          "output_type": "stream",
          "text": [
            "[-0.         -0.          0.         -0.00027102 -0.00040373 -0.\n",
            "  0.          0.00725366 -0.         -0.          0.         -0.\n",
            " -0.        ]\n"
          ],
          "name": "stdout"
        }
      ]
    },
    {
      "cell_type": "code",
      "metadata": {
        "id": "820iJ_4QtZIe",
        "outputId": "846a5d76-8a37-4d6e-cec9-20fa90f5d4f3",
        "colab": {
          "base_uri": "https://localhost:8080/",
          "height": 118
        }
      },
      "source": [
        "print(\"**************************************************\")\n",
        "print(\"With age and sex column\")\n",
        "print(\"Accuracy\",accuracy_score(p,y_te))\n",
        "accuracy_dict[13].append(accuracy_score(p, y_te))\n",
        "fscore_dict[13].append(f1_score(p, y_te, average='macro'))\n",
        "print(\"F1 score\",f1_score(p, y_te, average='macro'))\n",
        "print(\"\\n\")"
      ],
      "execution_count": null,
      "outputs": [
        {
          "output_type": "stream",
          "text": [
            "**************************************************\n",
            "With age and sex column\n",
            "Accuracy 0.8032786885245902\n",
            "F1 score 0.7867132867132867\n",
            "\n",
            "\n"
          ],
          "name": "stdout"
        }
      ]
    },
    {
      "cell_type": "markdown",
      "metadata": {
        "id": "s-7pKzqMHGR5"
      },
      "source": [
        "Language Model"
      ]
    },
    {
      "cell_type": "code",
      "metadata": {
        "id": "U3Z3DfF6HK0G",
        "outputId": "ba52d781-551a-4cc6-a4be-a315bf88ae1d",
        "colab": {
          "base_uri": "https://localhost:8080/",
          "height": 118
        }
      },
      "source": [
        "\n",
        "data = pd.read_csv(\"/content/drive/My Drive/BDMH/heart.csv\")\n",
        "y = list(data[\"target\"])\n",
        "data = data.drop(['target'], axis=1)\n",
        "X_train, X_test, Y_train, Y_test = train_test_split(data, y, test_size = 0.3)\n",
        "X_train = X_train.reset_index(drop=True)\n",
        "X_train[\"target\"] = list(Y_train)\n",
        "unigram_dict = {}\n",
        "bigram_dict = {}\n",
        "X_train_features = list(X_train.columns)\n",
        "for feature in X_train_features:\n",
        "  if(feature!=\"target\"):\n",
        "    # print(feature)\n",
        "    bigram_dict[feature] = {}\n",
        "    unigram_dict[feature] = {}\n",
        "    for i in X_train.index:\n",
        "      temp_bigram = str(X_train[feature][i])+\" \"+str(X_train[\"target\"][i])\n",
        "      temp_unigram = X_train[feature][i]\n",
        "      if temp_bigram not in bigram_dict[feature]:\n",
        "        bigram_dict[feature][temp_bigram] = 2\n",
        "      else:\n",
        "        bigram_dict[feature][temp_bigram] += 1\n",
        "\n",
        "      if temp_unigram not in unigram_dict[feature]:\n",
        "        unigram_dict[feature][temp_unigram] = 2\n",
        "      else:\n",
        "        unigram_dict[feature][temp_unigram] += 1\n",
        "\n",
        "\n",
        "predicted_class_labels = []\n",
        "for i in X_test.index:\n",
        "  temp_prob_1 = 0\n",
        "  temp_prob_0 = 0\n",
        "  for feature in X_train_features:\n",
        "    if(feature!=\"target\"):\n",
        "      temp_bigram_1 = str(X_test[feature][i])+\" \"+str(1)\n",
        "      temp_bigram_0 = str(X_test[feature][i])+\" \"+str(0)\n",
        "      temp_unigram = X_test[feature][i]\n",
        "      if(temp_bigram_1 in bigram_dict[feature]):\n",
        "        temp_prob_1 += bigram_dict[feature][temp_bigram_1]/(unigram_dict[feature][temp_unigram] + len(unigram_dict[feature]))\n",
        "      elif(temp_unigram in unigram_dict[feature]):\n",
        "        temp_prob_1 += 1/(unigram_dict[feature][temp_unigram] + len(unigram_dict[feature]))\n",
        "      else:\n",
        "        temp_prob_1 += 1/len(unigram_dict[feature])\n",
        "\n",
        "      if(temp_bigram_0 in bigram_dict[feature]):\n",
        "        temp_prob_0 += bigram_dict[feature][temp_bigram_0]/(unigram_dict[feature][temp_unigram] + len(unigram_dict[feature]))\n",
        "      elif(temp_unigram in unigram_dict[feature]):\n",
        "        temp_prob_0 += 1/(unigram_dict[feature][temp_unigram] + len(unigram_dict[feature]))\n",
        "      else:\n",
        "        temp_prob_0 += 1/len(unigram_dict[feature])\n",
        "\n",
        "  if(temp_prob_1 >= temp_prob_0):\n",
        "    predicted_class_labels.append(1)\n",
        "  else:\n",
        "    predicted_class_labels.append(0)\n",
        "\n",
        "print(\"**************************************************\")\n",
        "print(\"With age and sex column\")\n",
        "print(\"Accuracy\",accuracy_score(Y_test, predicted_class_labels))\n",
        "accuracy_dict[13].append(accuracy_score(Y_test, predicted_class_labels))\n",
        "fscore_dict[13].append(f1_score(Y_test, predicted_class_labels, average='macro'))\n",
        "print(\"F1 score\",f1_score(Y_test, predicted_class_labels, average='macro'))\n",
        "print(\"\\n\")"
      ],
      "execution_count": null,
      "outputs": [
        {
          "output_type": "stream",
          "text": [
            "**************************************************\n",
            "With age and sex column\n",
            "Accuracy 0.8901098901098901\n",
            "F1 score 0.8839285714285714\n",
            "\n",
            "\n"
          ],
          "name": "stdout"
        }
      ]
    },
    {
      "cell_type": "code",
      "metadata": {
        "id": "Wr4hRpPKIVfy",
        "outputId": "0d7eb5ba-15bc-474f-cb5f-2eba59a09b28",
        "colab": {
          "base_uri": "https://localhost:8080/",
          "height": 118
        }
      },
      "source": [
        "data = pd.read_csv(\"/content/drive/My Drive/BDMH/heart.csv\")\n",
        "y = list(data[\"target\"])\n",
        "data = data.drop(['target', 'age', 'sex'], axis=1)\n",
        "X_train, X_test, Y_train, Y_test = train_test_split(data, y, test_size = 0.3)\n",
        "X_train = X_train.reset_index(drop=True)\n",
        "X_train[\"target\"] = list(Y_train)\n",
        "unigram_dict = {}\n",
        "bigram_dict = {}\n",
        "X_train_features = list(X_train.columns)\n",
        "for feature in X_train_features:\n",
        "  if(feature!=\"target\"):\n",
        "    # print(feature)\n",
        "    bigram_dict[feature] = {}\n",
        "    unigram_dict[feature] = {}\n",
        "    for i in X_train.index:\n",
        "      temp_bigram = str(X_train[feature][i])+\" \"+str(X_train[\"target\"][i])\n",
        "      temp_unigram = X_train[feature][i]\n",
        "      if temp_bigram not in bigram_dict[feature]:\n",
        "        bigram_dict[feature][temp_bigram] = 2\n",
        "      else:\n",
        "        bigram_dict[feature][temp_bigram] += 1\n",
        "\n",
        "      if temp_unigram not in unigram_dict[feature]:\n",
        "        unigram_dict[feature][temp_unigram] = 2\n",
        "      else:\n",
        "        unigram_dict[feature][temp_unigram] += 1\n",
        "\n",
        "\n",
        "predicted_class_labels = []\n",
        "for i in X_test.index:\n",
        "  temp_prob_1 = 0\n",
        "  temp_prob_0 = 0\n",
        "  for feature in X_train_features:\n",
        "    if(feature!=\"target\"):\n",
        "      temp_bigram_1 = str(X_test[feature][i])+\" \"+str(1)\n",
        "      temp_bigram_0 = str(X_test[feature][i])+\" \"+str(0)\n",
        "      temp_unigram = X_test[feature][i]\n",
        "      if(temp_bigram_1 in bigram_dict[feature]):\n",
        "        temp_prob_1 += bigram_dict[feature][temp_bigram_1]/(unigram_dict[feature][temp_unigram] + len(unigram_dict[feature]))\n",
        "      elif(temp_unigram in unigram_dict[feature]):\n",
        "        temp_prob_1 += 1/(unigram_dict[feature][temp_unigram] + len(unigram_dict[feature]))\n",
        "      else:\n",
        "        temp_prob_1 += 1/len(unigram_dict[feature])\n",
        "\n",
        "      if(temp_bigram_0 in bigram_dict[feature]):\n",
        "        temp_prob_0 += bigram_dict[feature][temp_bigram_0]/(unigram_dict[feature][temp_unigram] + len(unigram_dict[feature]))\n",
        "      elif(temp_unigram in unigram_dict[feature]):\n",
        "        temp_prob_0 += 1/(unigram_dict[feature][temp_unigram] + len(unigram_dict[feature]))\n",
        "      else:\n",
        "        temp_prob_0 += 1/len(unigram_dict[feature])\n",
        "\n",
        "  if(temp_prob_1 >= temp_prob_0):\n",
        "    predicted_class_labels.append(1)\n",
        "  else:\n",
        "    predicted_class_labels.append(0)\n",
        "\n",
        "print(\"**************************************************\")\n",
        "print(\"Without age and sex column\")\n",
        "print(\"Accuracy\",accuracy_score(Y_test, predicted_class_labels))\n",
        "accuracy_dict[11].append(accuracy_score(Y_test, predicted_class_labels))\n",
        "fscore_dict[11].append(f1_score(Y_test, predicted_class_labels, average='macro'))\n",
        "print(\"F1 score\",f1_score(Y_test, predicted_class_labels, average='macro'))\n",
        "print(\"\\n\")"
      ],
      "execution_count": null,
      "outputs": [
        {
          "output_type": "stream",
          "text": [
            "**************************************************\n",
            "Without age and sex column\n",
            "Accuracy 0.8791208791208791\n",
            "F1 score 0.872985661718056\n",
            "\n",
            "\n"
          ],
          "name": "stdout"
        }
      ]
    },
    {
      "cell_type": "code",
      "metadata": {
        "id": "F1VpkAIgTJUr",
        "outputId": "8df79b45-9a61-45ac-bd08-f9bc7b1a272b",
        "colab": {
          "base_uri": "https://localhost:8080/",
          "height": 84
        }
      },
      "source": [
        "print(len(accuracy_dict[11]))\n",
        "print(len(fscore_dict[11]))\n",
        "print(len(accuracy_dict[13]))\n",
        "print(len(fscore_dict[13]))"
      ],
      "execution_count": null,
      "outputs": [
        {
          "output_type": "stream",
          "text": [
            "9\n",
            "9\n",
            "9\n",
            "9\n"
          ],
          "name": "stdout"
        }
      ]
    },
    {
      "cell_type": "code",
      "metadata": {
        "id": "Ns5N3Yunc8SO",
        "outputId": "d02517e2-78cd-4f9f-b242-1796c045a3bb",
        "colab": {
          "base_uri": "https://localhost:8080/",
          "height": 564
        }
      },
      "source": [
        "import matplotlib.pyplot as plt; plt.rcdefaults()\n",
        "import numpy as np\n",
        "import matplotlib.pyplot as plt\n",
        "\n",
        "\n",
        "y_pos = np.arange(len(list_of_models))\n",
        "\n",
        "plt.bar(y_pos, accuracy_dict[11], align='center', alpha=0.5)\n",
        "plt.xticks(y_pos, list_of_models, rotation='vertical')\n",
        "plt.ylabel('Accuracy Values')\n",
        "plt.title('Accuracy plot of different models without \"age\" and \"sex\" column')\n",
        "\n",
        "plt.show()"
      ],
      "execution_count": null,
      "outputs": [
        {
          "output_type": "display_data",
          "data": {
            "image/png": "[encoded data removed]",
            "text/plain": [
              "<Figure size 640x480 with 1 Axes>"
            ]
          },
          "metadata": {
            "tags": []
          }
        }
      ]
    },
    {
      "cell_type": "code",
      "metadata": {
        "id": "1WDaWZRAe21n",
        "outputId": "f8371fd9-df74-4b0a-af60-89863aa02954",
        "colab": {
          "base_uri": "https://localhost:8080/",
          "height": 564
        }
      },
      "source": [
        "import matplotlib.pyplot as plt; plt.rcdefaults()\n",
        "import numpy as np\n",
        "import matplotlib.pyplot as plt\n",
        "\n",
        "\n",
        "y_pos = np.arange(len(list_of_models))\n",
        "\n",
        "plt.bar(y_pos, accuracy_dict[13], align='center', alpha=0.5)\n",
        "plt.xticks(y_pos, list_of_models, rotation='vertical')\n",
        "plt.ylabel('Accuracy Values')\n",
        "plt.title('Accuracy plot of different models with \"age\" and \"sex\" column')\n",
        "\n",
        "plt.show()"
      ],
      "execution_count": null,
      "outputs": [
        {
          "output_type": "display_data",
          "data": {
            "image/png": "[encoded data removed]",
            "text/plain": [
              "<Figure size 640x480 with 1 Axes>"
            ]
          },
          "metadata": {
            "tags": []
          }
        }
      ]
    },
    {
      "cell_type": "code",
      "metadata": {
        "id": "XhZ91qkrfAwO",
        "outputId": "00589784-b58e-45bd-e7fc-3d9b1b30088f",
        "colab": {
          "base_uri": "https://localhost:8080/",
          "height": 564
        }
      },
      "source": [
        "import matplotlib.pyplot as plt; plt.rcdefaults()\n",
        "import numpy as np\n",
        "import matplotlib.pyplot as plt\n",
        "\n",
        "\n",
        "y_pos = np.arange(len(list_of_models))\n",
        "\n",
        "plt.bar(y_pos, fscore_dict[11], align='center', alpha=0.5)\n",
        "plt.xticks(y_pos, list_of_models, rotation='vertical')\n",
        "plt.ylabel('F-score Values')\n",
        "plt.title('F-score plot of different models without \"age\" and \"sex\" column')\n",
        "\n",
        "plt.show()"
      ],
      "execution_count": null,
      "outputs": [
        {
          "output_type": "display_data",
          "data": {
            "image/png": "[encoded data removed]",
            "text/plain": [
              "<Figure size 640x480 with 1 Axes>"
            ]
          },
          "metadata": {
            "tags": []
          }
        }
      ]
    },
    {
      "cell_type": "code",
      "metadata": {
        "id": "3R-HFJMwfRuD",
        "outputId": "b396a49c-9ee6-4ee4-bc7d-5c890af96096",
        "colab": {
          "base_uri": "https://localhost:8080/",
          "height": 564
        }
      },
      "source": [
        "import matplotlib.pyplot as plt; plt.rcdefaults()\n",
        "import numpy as np\n",
        "import matplotlib.pyplot as plt\n",
        "\n",
        "\n",
        "y_pos = np.arange(len(list_of_models))\n",
        "\n",
        "plt.bar(y_pos, fscore_dict[13], align='center', alpha=0.5)\n",
        "plt.xticks(y_pos, list_of_models, rotation='vertical')\n",
        "plt.ylabel('F-score Values')\n",
        "plt.title('F-score plot of different models with \"age\" and \"sex\" column')\n",
        "\n",
        "plt.show()"
      ],
      "execution_count": null,
      "outputs": [
        {
          "output_type": "display_data",
          "data": {
            "image/png": "[encoded data removed]",
            "text/plain": [
              "<Figure size 640x480 with 1 Axes>"
            ]
          },
          "metadata": {
            "tags": []
          }
        }
      ]
    },
    {
      "cell_type": "code",
      "metadata": {
        "id": "fiwDTWvTfXua",
        "outputId": "c82ad617-b584-4e88-8063-4eb78caf29da",
        "colab": {
          "base_uri": "https://localhost:8080/",
          "height": 50
        }
      },
      "source": [
        ""
      ],
      "execution_count": null,
      "outputs": [
        {
          "output_type": "stream",
          "text": [
            "[0.6038961038961039, 0.7511655011655012, 0.8006535947712419, 0.7750354609929078, 0.8282657657657657, 0.6213225371120108, 0.8498769483182936, 0.7396341463414635, 0.872985661718056]\n",
            "[0.6065573770491803, 0.7704918032786885, 0.8032786885245902, 0.7868852459016393, 0.8360655737704918, 0.6229508196721312, 0.8524590163934426, 0.7704918032786885, 0.8791208791208791]\n"
          ],
          "name": "stdout"
        }
      ]
    }
  ]
}